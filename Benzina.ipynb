{
 "cells": [
  {
   "cell_type": "code",
   "execution_count": 32,
   "id": "b1376243-3d8d-4149-81dd-1a79a8a43342",
   "metadata": {},
   "outputs": [
    {
     "name": "stdin",
     "output_type": "stream",
     "text": [
      "Quanti litri ci sono nel serbatoio? 10\n",
      "Quale è l'efficienza della macchina in km/l? 23\n",
      "Quale è il prezzo della benzina in euro/l ? 1.9\n"
     ]
    },
    {
     "name": "stdout",
     "output_type": "stream",
     "text": [
      "La distanza percorribile è km:  230.0\n",
      "il costo per 100 km è euro: 8.26086956521739\n"
     ]
    }
   ],
   "source": [
    "litri_in = float ( input ('Quanti litri ci sono nel serbatoio?') )\n",
    "efficienza_in = float ( input (\"Quale è l'efficienza della macchina in km/l?\") )\n",
    "prezzo_in =  float (input ('Quale è il prezzo della benzina in euro/l ?') )\n",
    "# litri = float (litri_in)\n",
    "# efficienza = float (efficienza_in)\n",
    "# prezzo = float (prezzo_in)\n",
    "distanza = litri_in * efficienza_in\n",
    "costo_100km = (100/efficienza_in) * prezzo_in\n",
    "in_distanza = \"La distanza percorribile è km:\"\n",
    "in_costo = \"il costo per 100 km è euro:\"\n",
    "#stringa_dist = str (distanza)\n",
    "#stringa_costo = str (costo_100km) \n",
    "print (in_distanza, distanza)\n",
    "print (in_costo, costo)\n",
    "\n"
   ]
  },
  {
   "cell_type": "code",
   "execution_count": 30,
   "id": "e37d6ee9-13c5-4746-81d3-11c93fa08c16",
   "metadata": {},
   "outputs": [
    {
     "name": "stdin",
     "output_type": "stream",
     "text": [
      "Digitare misura in metri 100\n"
     ]
    },
    {
     "name": "stdout",
     "output_type": "stream",
     "text": [
      "0.06\n",
      "3937 2\n"
     ]
    }
   ],
   "source": [
    "metri_in = input ('Digitare misura in metri')\n",
    "metri = float (metri_in)\n",
    "miglia = metri * 0.0006\n",
    "pollici = metri * 39.37\n",
    "print (miglia)\n",
    "print (round(pollici), 2)"
   ]
  },
  {
   "cell_type": "code",
   "execution_count": 36,
   "id": "8511a91d-39ff-45e5-8d99-7108ff503ff2",
   "metadata": {},
   "outputs": [
    {
     "name": "stdin",
     "output_type": "stream",
     "text": [
      "Digita il tuo testo: buongiorno\n"
     ]
    },
    {
     "name": "stdout",
     "output_type": "stream",
     "text": [
      "buo...rno\n"
     ]
    }
   ],
   "source": [
    "testo = input ('Digita il tuo testo:')\n",
    "testo1 = testo [0 : 3]\n",
    "testo2 = testo [-3:]\n",
    "risultato = testo1 + \"...\" + testo2\n",
    "print (risultato)\n"
   ]
  },
  {
   "cell_type": "code",
   "execution_count": null,
   "id": "c532ada7-c63f-482b-85f3-e1a72dfaaf46",
   "metadata": {},
   "outputs": [],
   "source": []
  }
 ],
 "metadata": {
  "kernelspec": {
   "display_name": "Python 3 (ipykernel)",
   "language": "python",
   "name": "python3"
  },
  "language_info": {
   "codemirror_mode": {
    "name": "ipython",
    "version": 3
   },
   "file_extension": ".py",
   "mimetype": "text/x-python",
   "name": "python",
   "nbconvert_exporter": "python",
   "pygments_lexer": "ipython3",
   "version": "3.10.9"
  }
 },
 "nbformat": 4,
 "nbformat_minor": 5
}
