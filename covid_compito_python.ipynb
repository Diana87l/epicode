{
 "cells": [
  {
   "cell_type": "markdown",
   "id": "52f506d5-22b0-46c2-bd59-a3561cb7f5e6",
   "metadata": {},
   "source": [
    " importo file csv dal pc attraverso pandas. avrei potuto importarlo però anche direttamente dal sito, passando url nella parentesi tonda"
   ]
  },
  {
   "cell_type": "code",
   "execution_count": 308,
   "id": "d76b2e40-29e0-4735-9c66-d370d5f3003e",
   "metadata": {},
   "outputs": [],
   "source": [
    "import pandas as pd\n",
    "df = pd.read_csv('owid-covid-data_desk.csv', low_memory=False)   #df sarà il nome del dataframe"
   ]
  },
  {
   "cell_type": "markdown",
   "id": "95e3fb25-a9ff-4752-a2f3-1c282cf0ff1e",
   "metadata": {},
   "source": [
    "esploro il dataframe"
   ]
  },
  {
   "cell_type": "code",
   "execution_count": 204,
   "id": "420fe671-9ab1-4480-9e95-9b90e2a03d35",
   "metadata": {},
   "outputs": [
    {
     "data": {
      "text/plain": [
       "(311510, 67)"
      ]
     },
     "execution_count": 204,
     "metadata": {},
     "output_type": "execute_result"
    }
   ],
   "source": [
    "df.shape #per avere le dimensioni del df(righe, colonne)"
   ]
  },
  {
   "cell_type": "code",
   "execution_count": 5,
   "id": "3c3319fa-8b6f-4277-8b41-5fecee9498b2",
   "metadata": {},
   "outputs": [
    {
     "name": "stdout",
     "output_type": "stream",
     "text": [
      "<class 'pandas.core.frame.DataFrame'>\n",
      "RangeIndex: 311510 entries, 0 to 311509\n",
      "Data columns (total 67 columns):\n",
      " #   Column                                      Non-Null Count   Dtype  \n",
      "---  ------                                      --------------   -----  \n",
      " 0   iso_code                                    311510 non-null  object \n",
      " 1   continent                                   296683 non-null  object \n",
      " 2   location                                    311510 non-null  object \n",
      " 3   date                                        311510 non-null  object \n",
      " 4   total_cases                                 275335 non-null  float64\n",
      " 5   new_cases                                   302655 non-null  float64\n",
      " 6   new_cases_smoothed                          301391 non-null  float64\n",
      " 7   total_deaths                                254635 non-null  float64\n",
      " 8   new_deaths                                  302735 non-null  float64\n",
      " 9   new_deaths_smoothed                         301505 non-null  float64\n",
      " 10  total_cases_per_million                     275335 non-null  float64\n",
      " 11  new_cases_per_million                       302655 non-null  float64\n",
      " 12  new_cases_smoothed_per_million              301391 non-null  float64\n",
      " 13  total_deaths_per_million                    254635 non-null  float64\n",
      " 14  new_deaths_per_million                      302735 non-null  float64\n",
      " 15  new_deaths_smoothed_per_million             301505 non-null  float64\n",
      " 16  reproduction_rate                           184817 non-null  float64\n",
      " 17  icu_patients                                36080 non-null   float64\n",
      " 18  icu_patients_per_million                    36080 non-null   float64\n",
      " 19  hosp_patients                               36869 non-null   float64\n",
      " 20  hosp_patients_per_million                   36869 non-null   float64\n",
      " 21  weekly_icu_admissions                       9480 non-null    float64\n",
      " 22  weekly_icu_admissions_per_million           9480 non-null    float64\n",
      " 23  weekly_hosp_admissions                      21916 non-null   float64\n",
      " 24  weekly_hosp_admissions_per_million          21916 non-null   float64\n",
      " 25  total_tests                                 79387 non-null   float64\n",
      " 26  new_tests                                   75403 non-null   float64\n",
      " 27  total_tests_per_thousand                    79387 non-null   float64\n",
      " 28  new_tests_per_thousand                      75403 non-null   float64\n",
      " 29  new_tests_smoothed                          103965 non-null  float64\n",
      " 30  new_tests_smoothed_per_thousand             103965 non-null  float64\n",
      " 31  positive_rate                               95927 non-null   float64\n",
      " 32  tests_per_case                              94348 non-null   float64\n",
      " 33  tests_units                                 106788 non-null  object \n",
      " 34  total_vaccinations                          75076 non-null   float64\n",
      " 35  people_vaccinated                           71927 non-null   float64\n",
      " 36  people_fully_vaccinated                     68446 non-null   float64\n",
      " 37  total_boosters                              43698 non-null   float64\n",
      " 38  new_vaccinations                            61769 non-null   float64\n",
      " 39  new_vaccinations_smoothed                   168226 non-null  float64\n",
      " 40  total_vaccinations_per_hundred              75076 non-null   float64\n",
      " 41  people_vaccinated_per_hundred               71927 non-null   float64\n",
      " 42  people_fully_vaccinated_per_hundred         68446 non-null   float64\n",
      " 43  total_boosters_per_hundred                  43698 non-null   float64\n",
      " 44  new_vaccinations_smoothed_per_million       168226 non-null  float64\n",
      " 45  new_people_vaccinated_smoothed              168223 non-null  float64\n",
      " 46  new_people_vaccinated_smoothed_per_hundred  168223 non-null  float64\n",
      " 47  stringency_index                            193107 non-null  float64\n",
      " 48  population_density                          264320 non-null  float64\n",
      " 49  median_age                                  245823 non-null  float64\n",
      " 50  aged_65_older                               237238 non-null  float64\n",
      " 51  aged_70_older                               243356 non-null  float64\n",
      " 52  gdp_per_capita                              240928 non-null  float64\n",
      " 53  extreme_poverty                             155200 non-null  float64\n",
      " 54  cardiovasc_death_rate                       241360 non-null  float64\n",
      " 55  diabetes_prevalence                         253677 non-null  float64\n",
      " 56  female_smokers                              181074 non-null  float64\n",
      " 57  male_smokers                                178608 non-null  float64\n",
      " 58  handwashing_facilities                      118210 non-null  float64\n",
      " 59  hospital_beds_per_thousand                  213080 non-null  float64\n",
      " 60  life_expectancy                             286446 non-null  float64\n",
      " 61  human_development_index                     233976 non-null  float64\n",
      " 62  population                                  311510 non-null  float64\n",
      " 63  excess_mortality_cumulative_absolute        10669 non-null   float64\n",
      " 64  excess_mortality_cumulative                 10669 non-null   float64\n",
      " 65  excess_mortality                            10669 non-null   float64\n",
      " 66  excess_mortality_cumulative_per_million     10669 non-null   float64\n",
      "dtypes: float64(62), object(5)\n",
      "memory usage: 159.2+ MB\n"
     ]
    }
   ],
   "source": [
    "df.info()   #ottengo così più informazioni sul df compreso il conteggio dei dati non nulli e la tipologia"
   ]
  },
  {
   "cell_type": "code",
   "execution_count": 6,
   "id": "127df838-6eee-4545-a4c0-eaaff1915e68",
   "metadata": {},
   "outputs": [
    {
     "data": {
      "text/plain": [
       "Index(['iso_code', 'continent', 'location', 'date', 'total_cases', 'new_cases',\n",
       "       'new_cases_smoothed', 'total_deaths', 'new_deaths',\n",
       "       'new_deaths_smoothed', 'total_cases_per_million',\n",
       "       'new_cases_per_million', 'new_cases_smoothed_per_million',\n",
       "       'total_deaths_per_million', 'new_deaths_per_million',\n",
       "       'new_deaths_smoothed_per_million', 'reproduction_rate', 'icu_patients',\n",
       "       'icu_patients_per_million', 'hosp_patients',\n",
       "       'hosp_patients_per_million', 'weekly_icu_admissions',\n",
       "       'weekly_icu_admissions_per_million', 'weekly_hosp_admissions',\n",
       "       'weekly_hosp_admissions_per_million', 'total_tests', 'new_tests',\n",
       "       'total_tests_per_thousand', 'new_tests_per_thousand',\n",
       "       'new_tests_smoothed', 'new_tests_smoothed_per_thousand',\n",
       "       'positive_rate', 'tests_per_case', 'tests_units', 'total_vaccinations',\n",
       "       'people_vaccinated', 'people_fully_vaccinated', 'total_boosters',\n",
       "       'new_vaccinations', 'new_vaccinations_smoothed',\n",
       "       'total_vaccinations_per_hundred', 'people_vaccinated_per_hundred',\n",
       "       'people_fully_vaccinated_per_hundred', 'total_boosters_per_hundred',\n",
       "       'new_vaccinations_smoothed_per_million',\n",
       "       'new_people_vaccinated_smoothed',\n",
       "       'new_people_vaccinated_smoothed_per_hundred', 'stringency_index',\n",
       "       'population_density', 'median_age', 'aged_65_older', 'aged_70_older',\n",
       "       'gdp_per_capita', 'extreme_poverty', 'cardiovasc_death_rate',\n",
       "       'diabetes_prevalence', 'female_smokers', 'male_smokers',\n",
       "       'handwashing_facilities', 'hospital_beds_per_thousand',\n",
       "       'life_expectancy', 'human_development_index', 'population',\n",
       "       'excess_mortality_cumulative_absolute', 'excess_mortality_cumulative',\n",
       "       'excess_mortality', 'excess_mortality_cumulative_per_million'],\n",
       "      dtype='object')"
      ]
     },
     "execution_count": 6,
     "metadata": {},
     "output_type": "execute_result"
    }
   ],
   "source": [
    "df.columns  #così posso vedere tutti i nomi delle colonne"
   ]
  },
  {
   "cell_type": "code",
   "execution_count": 7,
   "id": "5425e28a-61bb-48bc-a4ab-63dea1c4602c",
   "metadata": {},
   "outputs": [
    {
     "data": {
      "text/html": [
       "<div>\n",
       "<style scoped>\n",
       "    .dataframe tbody tr th:only-of-type {\n",
       "        vertical-align: middle;\n",
       "    }\n",
       "\n",
       "    .dataframe tbody tr th {\n",
       "        vertical-align: top;\n",
       "    }\n",
       "\n",
       "    .dataframe thead th {\n",
       "        text-align: right;\n",
       "    }\n",
       "</style>\n",
       "<table border=\"1\" class=\"dataframe\">\n",
       "  <thead>\n",
       "    <tr style=\"text-align: right;\">\n",
       "      <th></th>\n",
       "      <th>iso_code</th>\n",
       "      <th>continent</th>\n",
       "      <th>location</th>\n",
       "      <th>date</th>\n",
       "      <th>total_cases</th>\n",
       "      <th>new_cases</th>\n",
       "      <th>new_cases_smoothed</th>\n",
       "      <th>total_deaths</th>\n",
       "      <th>new_deaths</th>\n",
       "      <th>new_deaths_smoothed</th>\n",
       "      <th>...</th>\n",
       "      <th>male_smokers</th>\n",
       "      <th>handwashing_facilities</th>\n",
       "      <th>hospital_beds_per_thousand</th>\n",
       "      <th>life_expectancy</th>\n",
       "      <th>human_development_index</th>\n",
       "      <th>population</th>\n",
       "      <th>excess_mortality_cumulative_absolute</th>\n",
       "      <th>excess_mortality_cumulative</th>\n",
       "      <th>excess_mortality</th>\n",
       "      <th>excess_mortality_cumulative_per_million</th>\n",
       "    </tr>\n",
       "  </thead>\n",
       "  <tbody>\n",
       "    <tr>\n",
       "      <th>0</th>\n",
       "      <td>AFG</td>\n",
       "      <td>Asia</td>\n",
       "      <td>Afghanistan</td>\n",
       "      <td>2020-01-03</td>\n",
       "      <td>NaN</td>\n",
       "      <td>0.0</td>\n",
       "      <td>NaN</td>\n",
       "      <td>NaN</td>\n",
       "      <td>0.0</td>\n",
       "      <td>NaN</td>\n",
       "      <td>...</td>\n",
       "      <td>NaN</td>\n",
       "      <td>37.746</td>\n",
       "      <td>0.5</td>\n",
       "      <td>64.83</td>\n",
       "      <td>0.511</td>\n",
       "      <td>41128772.0</td>\n",
       "      <td>NaN</td>\n",
       "      <td>NaN</td>\n",
       "      <td>NaN</td>\n",
       "      <td>NaN</td>\n",
       "    </tr>\n",
       "    <tr>\n",
       "      <th>1</th>\n",
       "      <td>AFG</td>\n",
       "      <td>Asia</td>\n",
       "      <td>Afghanistan</td>\n",
       "      <td>2020-01-04</td>\n",
       "      <td>NaN</td>\n",
       "      <td>0.0</td>\n",
       "      <td>NaN</td>\n",
       "      <td>NaN</td>\n",
       "      <td>0.0</td>\n",
       "      <td>NaN</td>\n",
       "      <td>...</td>\n",
       "      <td>NaN</td>\n",
       "      <td>37.746</td>\n",
       "      <td>0.5</td>\n",
       "      <td>64.83</td>\n",
       "      <td>0.511</td>\n",
       "      <td>41128772.0</td>\n",
       "      <td>NaN</td>\n",
       "      <td>NaN</td>\n",
       "      <td>NaN</td>\n",
       "      <td>NaN</td>\n",
       "    </tr>\n",
       "    <tr>\n",
       "      <th>2</th>\n",
       "      <td>AFG</td>\n",
       "      <td>Asia</td>\n",
       "      <td>Afghanistan</td>\n",
       "      <td>2020-01-05</td>\n",
       "      <td>NaN</td>\n",
       "      <td>0.0</td>\n",
       "      <td>NaN</td>\n",
       "      <td>NaN</td>\n",
       "      <td>0.0</td>\n",
       "      <td>NaN</td>\n",
       "      <td>...</td>\n",
       "      <td>NaN</td>\n",
       "      <td>37.746</td>\n",
       "      <td>0.5</td>\n",
       "      <td>64.83</td>\n",
       "      <td>0.511</td>\n",
       "      <td>41128772.0</td>\n",
       "      <td>NaN</td>\n",
       "      <td>NaN</td>\n",
       "      <td>NaN</td>\n",
       "      <td>NaN</td>\n",
       "    </tr>\n",
       "    <tr>\n",
       "      <th>3</th>\n",
       "      <td>AFG</td>\n",
       "      <td>Asia</td>\n",
       "      <td>Afghanistan</td>\n",
       "      <td>2020-01-06</td>\n",
       "      <td>NaN</td>\n",
       "      <td>0.0</td>\n",
       "      <td>NaN</td>\n",
       "      <td>NaN</td>\n",
       "      <td>0.0</td>\n",
       "      <td>NaN</td>\n",
       "      <td>...</td>\n",
       "      <td>NaN</td>\n",
       "      <td>37.746</td>\n",
       "      <td>0.5</td>\n",
       "      <td>64.83</td>\n",
       "      <td>0.511</td>\n",
       "      <td>41128772.0</td>\n",
       "      <td>NaN</td>\n",
       "      <td>NaN</td>\n",
       "      <td>NaN</td>\n",
       "      <td>NaN</td>\n",
       "    </tr>\n",
       "    <tr>\n",
       "      <th>4</th>\n",
       "      <td>AFG</td>\n",
       "      <td>Asia</td>\n",
       "      <td>Afghanistan</td>\n",
       "      <td>2020-01-07</td>\n",
       "      <td>NaN</td>\n",
       "      <td>0.0</td>\n",
       "      <td>NaN</td>\n",
       "      <td>NaN</td>\n",
       "      <td>0.0</td>\n",
       "      <td>NaN</td>\n",
       "      <td>...</td>\n",
       "      <td>NaN</td>\n",
       "      <td>37.746</td>\n",
       "      <td>0.5</td>\n",
       "      <td>64.83</td>\n",
       "      <td>0.511</td>\n",
       "      <td>41128772.0</td>\n",
       "      <td>NaN</td>\n",
       "      <td>NaN</td>\n",
       "      <td>NaN</td>\n",
       "      <td>NaN</td>\n",
       "    </tr>\n",
       "  </tbody>\n",
       "</table>\n",
       "<p>5 rows × 67 columns</p>\n",
       "</div>"
      ],
      "text/plain": [
       "  iso_code continent     location        date  total_cases  new_cases  \\\n",
       "0      AFG      Asia  Afghanistan  2020-01-03          NaN        0.0   \n",
       "1      AFG      Asia  Afghanistan  2020-01-04          NaN        0.0   \n",
       "2      AFG      Asia  Afghanistan  2020-01-05          NaN        0.0   \n",
       "3      AFG      Asia  Afghanistan  2020-01-06          NaN        0.0   \n",
       "4      AFG      Asia  Afghanistan  2020-01-07          NaN        0.0   \n",
       "\n",
       "   new_cases_smoothed  total_deaths  new_deaths  new_deaths_smoothed  ...  \\\n",
       "0                 NaN           NaN         0.0                  NaN  ...   \n",
       "1                 NaN           NaN         0.0                  NaN  ...   \n",
       "2                 NaN           NaN         0.0                  NaN  ...   \n",
       "3                 NaN           NaN         0.0                  NaN  ...   \n",
       "4                 NaN           NaN         0.0                  NaN  ...   \n",
       "\n",
       "   male_smokers  handwashing_facilities  hospital_beds_per_thousand  \\\n",
       "0           NaN                  37.746                         0.5   \n",
       "1           NaN                  37.746                         0.5   \n",
       "2           NaN                  37.746                         0.5   \n",
       "3           NaN                  37.746                         0.5   \n",
       "4           NaN                  37.746                         0.5   \n",
       "\n",
       "   life_expectancy  human_development_index  population  \\\n",
       "0            64.83                    0.511  41128772.0   \n",
       "1            64.83                    0.511  41128772.0   \n",
       "2            64.83                    0.511  41128772.0   \n",
       "3            64.83                    0.511  41128772.0   \n",
       "4            64.83                    0.511  41128772.0   \n",
       "\n",
       "   excess_mortality_cumulative_absolute  excess_mortality_cumulative  \\\n",
       "0                                   NaN                          NaN   \n",
       "1                                   NaN                          NaN   \n",
       "2                                   NaN                          NaN   \n",
       "3                                   NaN                          NaN   \n",
       "4                                   NaN                          NaN   \n",
       "\n",
       "   excess_mortality  excess_mortality_cumulative_per_million  \n",
       "0               NaN                                      NaN  \n",
       "1               NaN                                      NaN  \n",
       "2               NaN                                      NaN  \n",
       "3               NaN                                      NaN  \n",
       "4               NaN                                      NaN  \n",
       "\n",
       "[5 rows x 67 columns]"
      ]
     },
     "execution_count": 7,
     "metadata": {},
     "output_type": "execute_result"
    }
   ],
   "source": [
    "df.head(5)  #vedo le prime 5 righe del df"
   ]
  },
  {
   "cell_type": "code",
   "execution_count": 8,
   "id": "ce21bb4f-ab9c-43a6-a7c8-fad234010b07",
   "metadata": {},
   "outputs": [
    {
     "data": {
      "text/html": [
       "<div>\n",
       "<style scoped>\n",
       "    .dataframe tbody tr th:only-of-type {\n",
       "        vertical-align: middle;\n",
       "    }\n",
       "\n",
       "    .dataframe tbody tr th {\n",
       "        vertical-align: top;\n",
       "    }\n",
       "\n",
       "    .dataframe thead th {\n",
       "        text-align: right;\n",
       "    }\n",
       "</style>\n",
       "<table border=\"1\" class=\"dataframe\">\n",
       "  <thead>\n",
       "    <tr style=\"text-align: right;\">\n",
       "      <th></th>\n",
       "      <th>iso_code</th>\n",
       "      <th>continent</th>\n",
       "      <th>location</th>\n",
       "      <th>date</th>\n",
       "      <th>total_cases</th>\n",
       "      <th>new_cases</th>\n",
       "      <th>new_cases_smoothed</th>\n",
       "      <th>total_deaths</th>\n",
       "      <th>new_deaths</th>\n",
       "      <th>new_deaths_smoothed</th>\n",
       "      <th>...</th>\n",
       "      <th>male_smokers</th>\n",
       "      <th>handwashing_facilities</th>\n",
       "      <th>hospital_beds_per_thousand</th>\n",
       "      <th>life_expectancy</th>\n",
       "      <th>human_development_index</th>\n",
       "      <th>population</th>\n",
       "      <th>excess_mortality_cumulative_absolute</th>\n",
       "      <th>excess_mortality_cumulative</th>\n",
       "      <th>excess_mortality</th>\n",
       "      <th>excess_mortality_cumulative_per_million</th>\n",
       "    </tr>\n",
       "  </thead>\n",
       "  <tbody>\n",
       "    <tr>\n",
       "      <th>311505</th>\n",
       "      <td>ZWE</td>\n",
       "      <td>Africa</td>\n",
       "      <td>Zimbabwe</td>\n",
       "      <td>2023-05-13</td>\n",
       "      <td>264821.0</td>\n",
       "      <td>5.0</td>\n",
       "      <td>10.286</td>\n",
       "      <td>5690.0</td>\n",
       "      <td>1.0</td>\n",
       "      <td>0.429</td>\n",
       "      <td>...</td>\n",
       "      <td>30.7</td>\n",
       "      <td>36.791</td>\n",
       "      <td>1.7</td>\n",
       "      <td>61.49</td>\n",
       "      <td>0.571</td>\n",
       "      <td>16320539.0</td>\n",
       "      <td>NaN</td>\n",
       "      <td>NaN</td>\n",
       "      <td>NaN</td>\n",
       "      <td>NaN</td>\n",
       "    </tr>\n",
       "    <tr>\n",
       "      <th>311506</th>\n",
       "      <td>ZWE</td>\n",
       "      <td>Africa</td>\n",
       "      <td>Zimbabwe</td>\n",
       "      <td>2023-05-14</td>\n",
       "      <td>264841.0</td>\n",
       "      <td>20.0</td>\n",
       "      <td>10.714</td>\n",
       "      <td>5690.0</td>\n",
       "      <td>0.0</td>\n",
       "      <td>0.429</td>\n",
       "      <td>...</td>\n",
       "      <td>30.7</td>\n",
       "      <td>36.791</td>\n",
       "      <td>1.7</td>\n",
       "      <td>61.49</td>\n",
       "      <td>0.571</td>\n",
       "      <td>16320539.0</td>\n",
       "      <td>NaN</td>\n",
       "      <td>NaN</td>\n",
       "      <td>NaN</td>\n",
       "      <td>NaN</td>\n",
       "    </tr>\n",
       "    <tr>\n",
       "      <th>311507</th>\n",
       "      <td>ZWE</td>\n",
       "      <td>Africa</td>\n",
       "      <td>Zimbabwe</td>\n",
       "      <td>2023-05-15</td>\n",
       "      <td>264848.0</td>\n",
       "      <td>7.0</td>\n",
       "      <td>10.286</td>\n",
       "      <td>5690.0</td>\n",
       "      <td>0.0</td>\n",
       "      <td>0.286</td>\n",
       "      <td>...</td>\n",
       "      <td>30.7</td>\n",
       "      <td>36.791</td>\n",
       "      <td>1.7</td>\n",
       "      <td>61.49</td>\n",
       "      <td>0.571</td>\n",
       "      <td>16320539.0</td>\n",
       "      <td>NaN</td>\n",
       "      <td>NaN</td>\n",
       "      <td>NaN</td>\n",
       "      <td>NaN</td>\n",
       "    </tr>\n",
       "    <tr>\n",
       "      <th>311508</th>\n",
       "      <td>ZWE</td>\n",
       "      <td>Africa</td>\n",
       "      <td>Zimbabwe</td>\n",
       "      <td>2023-05-16</td>\n",
       "      <td>264848.0</td>\n",
       "      <td>0.0</td>\n",
       "      <td>9.429</td>\n",
       "      <td>5690.0</td>\n",
       "      <td>0.0</td>\n",
       "      <td>0.286</td>\n",
       "      <td>...</td>\n",
       "      <td>30.7</td>\n",
       "      <td>36.791</td>\n",
       "      <td>1.7</td>\n",
       "      <td>61.49</td>\n",
       "      <td>0.571</td>\n",
       "      <td>16320539.0</td>\n",
       "      <td>NaN</td>\n",
       "      <td>NaN</td>\n",
       "      <td>NaN</td>\n",
       "      <td>NaN</td>\n",
       "    </tr>\n",
       "    <tr>\n",
       "      <th>311509</th>\n",
       "      <td>ZWE</td>\n",
       "      <td>Africa</td>\n",
       "      <td>Zimbabwe</td>\n",
       "      <td>2023-05-17</td>\n",
       "      <td>264848.0</td>\n",
       "      <td>0.0</td>\n",
       "      <td>8.143</td>\n",
       "      <td>5690.0</td>\n",
       "      <td>0.0</td>\n",
       "      <td>0.143</td>\n",
       "      <td>...</td>\n",
       "      <td>30.7</td>\n",
       "      <td>36.791</td>\n",
       "      <td>1.7</td>\n",
       "      <td>61.49</td>\n",
       "      <td>0.571</td>\n",
       "      <td>16320539.0</td>\n",
       "      <td>NaN</td>\n",
       "      <td>NaN</td>\n",
       "      <td>NaN</td>\n",
       "      <td>NaN</td>\n",
       "    </tr>\n",
       "  </tbody>\n",
       "</table>\n",
       "<p>5 rows × 67 columns</p>\n",
       "</div>"
      ],
      "text/plain": [
       "       iso_code continent  location        date  total_cases  new_cases  \\\n",
       "311505      ZWE    Africa  Zimbabwe  2023-05-13     264821.0        5.0   \n",
       "311506      ZWE    Africa  Zimbabwe  2023-05-14     264841.0       20.0   \n",
       "311507      ZWE    Africa  Zimbabwe  2023-05-15     264848.0        7.0   \n",
       "311508      ZWE    Africa  Zimbabwe  2023-05-16     264848.0        0.0   \n",
       "311509      ZWE    Africa  Zimbabwe  2023-05-17     264848.0        0.0   \n",
       "\n",
       "        new_cases_smoothed  total_deaths  new_deaths  new_deaths_smoothed  \\\n",
       "311505              10.286        5690.0         1.0                0.429   \n",
       "311506              10.714        5690.0         0.0                0.429   \n",
       "311507              10.286        5690.0         0.0                0.286   \n",
       "311508               9.429        5690.0         0.0                0.286   \n",
       "311509               8.143        5690.0         0.0                0.143   \n",
       "\n",
       "        ...  male_smokers  handwashing_facilities  hospital_beds_per_thousand  \\\n",
       "311505  ...          30.7                  36.791                         1.7   \n",
       "311506  ...          30.7                  36.791                         1.7   \n",
       "311507  ...          30.7                  36.791                         1.7   \n",
       "311508  ...          30.7                  36.791                         1.7   \n",
       "311509  ...          30.7                  36.791                         1.7   \n",
       "\n",
       "        life_expectancy  human_development_index  population  \\\n",
       "311505            61.49                    0.571  16320539.0   \n",
       "311506            61.49                    0.571  16320539.0   \n",
       "311507            61.49                    0.571  16320539.0   \n",
       "311508            61.49                    0.571  16320539.0   \n",
       "311509            61.49                    0.571  16320539.0   \n",
       "\n",
       "        excess_mortality_cumulative_absolute  excess_mortality_cumulative  \\\n",
       "311505                                   NaN                          NaN   \n",
       "311506                                   NaN                          NaN   \n",
       "311507                                   NaN                          NaN   \n",
       "311508                                   NaN                          NaN   \n",
       "311509                                   NaN                          NaN   \n",
       "\n",
       "        excess_mortality  excess_mortality_cumulative_per_million  \n",
       "311505               NaN                                      NaN  \n",
       "311506               NaN                                      NaN  \n",
       "311507               NaN                                      NaN  \n",
       "311508               NaN                                      NaN  \n",
       "311509               NaN                                      NaN  \n",
       "\n",
       "[5 rows x 67 columns]"
      ]
     },
     "execution_count": 8,
     "metadata": {},
     "output_type": "execute_result"
    }
   ],
   "source": [
    "df.tail(5) #controllo le ultime 5 righe del df"
   ]
  },
  {
   "cell_type": "code",
   "execution_count": 4,
   "id": "d411930e-79c8-453a-80ca-3875887751a6",
   "metadata": {},
   "outputs": [
    {
     "data": {
      "text/html": [
       "<div>\n",
       "<style scoped>\n",
       "    .dataframe tbody tr th:only-of-type {\n",
       "        vertical-align: middle;\n",
       "    }\n",
       "\n",
       "    .dataframe tbody tr th {\n",
       "        vertical-align: top;\n",
       "    }\n",
       "\n",
       "    .dataframe thead th {\n",
       "        text-align: right;\n",
       "    }\n",
       "</style>\n",
       "<table border=\"1\" class=\"dataframe\">\n",
       "  <thead>\n",
       "    <tr style=\"text-align: right;\">\n",
       "      <th></th>\n",
       "      <th>total_cases</th>\n",
       "      <th>new_cases</th>\n",
       "      <th>new_cases_smoothed</th>\n",
       "      <th>total_deaths</th>\n",
       "      <th>new_deaths</th>\n",
       "      <th>new_deaths_smoothed</th>\n",
       "      <th>total_cases_per_million</th>\n",
       "      <th>new_cases_per_million</th>\n",
       "      <th>new_cases_smoothed_per_million</th>\n",
       "      <th>total_deaths_per_million</th>\n",
       "      <th>...</th>\n",
       "      <th>male_smokers</th>\n",
       "      <th>handwashing_facilities</th>\n",
       "      <th>hospital_beds_per_thousand</th>\n",
       "      <th>life_expectancy</th>\n",
       "      <th>human_development_index</th>\n",
       "      <th>population</th>\n",
       "      <th>excess_mortality_cumulative_absolute</th>\n",
       "      <th>excess_mortality_cumulative</th>\n",
       "      <th>excess_mortality</th>\n",
       "      <th>excess_mortality_cumulative_per_million</th>\n",
       "    </tr>\n",
       "  </thead>\n",
       "  <tbody>\n",
       "    <tr>\n",
       "      <th>count</th>\n",
       "      <td>2.753350e+05</td>\n",
       "      <td>3.026550e+05</td>\n",
       "      <td>3.013910e+05</td>\n",
       "      <td>2.546350e+05</td>\n",
       "      <td>302735.000000</td>\n",
       "      <td>301505.000000</td>\n",
       "      <td>275335.000000</td>\n",
       "      <td>302655.000000</td>\n",
       "      <td>301391.000000</td>\n",
       "      <td>254635.000000</td>\n",
       "      <td>...</td>\n",
       "      <td>178608.000000</td>\n",
       "      <td>118210.000000</td>\n",
       "      <td>213080.000000</td>\n",
       "      <td>286446.000000</td>\n",
       "      <td>233976.000000</td>\n",
       "      <td>3.115100e+05</td>\n",
       "      <td>1.066900e+04</td>\n",
       "      <td>10669.000000</td>\n",
       "      <td>10669.000000</td>\n",
       "      <td>10669.000000</td>\n",
       "    </tr>\n",
       "    <tr>\n",
       "      <th>mean</th>\n",
       "      <td>5.767156e+06</td>\n",
       "      <td>1.073397e+04</td>\n",
       "      <td>1.077678e+04</td>\n",
       "      <td>8.061661e+04</td>\n",
       "      <td>95.740952</td>\n",
       "      <td>96.103652</td>\n",
       "      <td>88010.375666</td>\n",
       "      <td>161.890445</td>\n",
       "      <td>162.525589</td>\n",
       "      <td>811.194069</td>\n",
       "      <td>...</td>\n",
       "      <td>32.911118</td>\n",
       "      <td>50.792342</td>\n",
       "      <td>3.097773</td>\n",
       "      <td>73.718956</td>\n",
       "      <td>0.722521</td>\n",
       "      <td>1.284065e+08</td>\n",
       "      <td>4.739668e+04</td>\n",
       "      <td>9.538903</td>\n",
       "      <td>12.633550</td>\n",
       "      <td>1477.149682</td>\n",
       "    </tr>\n",
       "    <tr>\n",
       "      <th>std</th>\n",
       "      <td>3.600088e+07</td>\n",
       "      <td>1.030085e+05</td>\n",
       "      <td>1.002455e+05</td>\n",
       "      <td>4.164645e+05</td>\n",
       "      <td>600.706338</td>\n",
       "      <td>591.334247</td>\n",
       "      <td>138439.520139</td>\n",
       "      <td>1127.171598</td>\n",
       "      <td>634.547240</td>\n",
       "      <td>1053.772688</td>\n",
       "      <td>...</td>\n",
       "      <td>13.572861</td>\n",
       "      <td>31.957039</td>\n",
       "      <td>2.548706</td>\n",
       "      <td>7.396725</td>\n",
       "      <td>0.148989</td>\n",
       "      <td>6.605735e+08</td>\n",
       "      <td>1.384241e+05</td>\n",
       "      <td>12.914011</td>\n",
       "      <td>26.344219</td>\n",
       "      <td>1840.907839</td>\n",
       "    </tr>\n",
       "    <tr>\n",
       "      <th>min</th>\n",
       "      <td>1.000000e+00</td>\n",
       "      <td>0.000000e+00</td>\n",
       "      <td>0.000000e+00</td>\n",
       "      <td>1.000000e+00</td>\n",
       "      <td>0.000000</td>\n",
       "      <td>0.000000</td>\n",
       "      <td>0.000000</td>\n",
       "      <td>0.000000</td>\n",
       "      <td>0.000000</td>\n",
       "      <td>0.000000</td>\n",
       "      <td>...</td>\n",
       "      <td>7.700000</td>\n",
       "      <td>1.188000</td>\n",
       "      <td>0.100000</td>\n",
       "      <td>53.280000</td>\n",
       "      <td>0.394000</td>\n",
       "      <td>4.700000e+01</td>\n",
       "      <td>-3.772610e+04</td>\n",
       "      <td>-44.230000</td>\n",
       "      <td>-95.920000</td>\n",
       "      <td>-1984.281600</td>\n",
       "    </tr>\n",
       "    <tr>\n",
       "      <th>25%</th>\n",
       "      <td>6.565000e+03</td>\n",
       "      <td>0.000000e+00</td>\n",
       "      <td>1.143000e+00</td>\n",
       "      <td>1.210000e+02</td>\n",
       "      <td>0.000000</td>\n",
       "      <td>0.000000</td>\n",
       "      <td>2039.082000</td>\n",
       "      <td>0.000000</td>\n",
       "      <td>0.246000</td>\n",
       "      <td>50.398500</td>\n",
       "      <td>...</td>\n",
       "      <td>22.600000</td>\n",
       "      <td>20.859000</td>\n",
       "      <td>1.300000</td>\n",
       "      <td>69.590000</td>\n",
       "      <td>0.602000</td>\n",
       "      <td>4.490020e+05</td>\n",
       "      <td>2.780000e+01</td>\n",
       "      <td>0.560000</td>\n",
       "      <td>-1.200000</td>\n",
       "      <td>24.645111</td>\n",
       "    </tr>\n",
       "    <tr>\n",
       "      <th>50%</th>\n",
       "      <td>6.239700e+04</td>\n",
       "      <td>1.700000e+01</td>\n",
       "      <td>3.771400e+01</td>\n",
       "      <td>1.230000e+03</td>\n",
       "      <td>0.000000</td>\n",
       "      <td>0.286000</td>\n",
       "      <td>20898.389000</td>\n",
       "      <td>2.396000</td>\n",
       "      <td>10.664000</td>\n",
       "      <td>338.621000</td>\n",
       "      <td>...</td>\n",
       "      <td>33.100000</td>\n",
       "      <td>49.839000</td>\n",
       "      <td>2.500000</td>\n",
       "      <td>75.050000</td>\n",
       "      <td>0.740000</td>\n",
       "      <td>5.882259e+06</td>\n",
       "      <td>4.530999e+03</td>\n",
       "      <td>7.750000</td>\n",
       "      <td>6.490000</td>\n",
       "      <td>900.418500</td>\n",
       "    </tr>\n",
       "    <tr>\n",
       "      <th>75%</th>\n",
       "      <td>6.419815e+05</td>\n",
       "      <td>5.230000e+02</td>\n",
       "      <td>6.310000e+02</td>\n",
       "      <td>1.064800e+04</td>\n",
       "      <td>6.000000</td>\n",
       "      <td>6.714000</td>\n",
       "      <td>107810.942500</td>\n",
       "      <td>68.501000</td>\n",
       "      <td>103.445000</td>\n",
       "      <td>1246.603000</td>\n",
       "      <td>...</td>\n",
       "      <td>41.300000</td>\n",
       "      <td>83.241000</td>\n",
       "      <td>4.200000</td>\n",
       "      <td>79.460000</td>\n",
       "      <td>0.829000</td>\n",
       "      <td>2.830170e+07</td>\n",
       "      <td>3.159700e+04</td>\n",
       "      <td>15.360000</td>\n",
       "      <td>18.070000</td>\n",
       "      <td>2399.257000</td>\n",
       "    </tr>\n",
       "    <tr>\n",
       "      <th>max</th>\n",
       "      <td>7.664400e+08</td>\n",
       "      <td>7.460822e+06</td>\n",
       "      <td>6.410667e+06</td>\n",
       "      <td>6.932578e+06</td>\n",
       "      <td>20027.000000</td>\n",
       "      <td>14677.857000</td>\n",
       "      <td>737554.506000</td>\n",
       "      <td>228872.025000</td>\n",
       "      <td>37241.781000</td>\n",
       "      <td>6476.319000</td>\n",
       "      <td>...</td>\n",
       "      <td>78.100000</td>\n",
       "      <td>100.000000</td>\n",
       "      <td>13.800000</td>\n",
       "      <td>86.750000</td>\n",
       "      <td>0.957000</td>\n",
       "      <td>7.975105e+09</td>\n",
       "      <td>1.282260e+06</td>\n",
       "      <td>76.550000</td>\n",
       "      <td>377.300000</td>\n",
       "      <td>10291.122000</td>\n",
       "    </tr>\n",
       "  </tbody>\n",
       "</table>\n",
       "<p>8 rows × 62 columns</p>\n",
       "</div>"
      ],
      "text/plain": [
       "        total_cases     new_cases  new_cases_smoothed  total_deaths  \\\n",
       "count  2.753350e+05  3.026550e+05        3.013910e+05  2.546350e+05   \n",
       "mean   5.767156e+06  1.073397e+04        1.077678e+04  8.061661e+04   \n",
       "std    3.600088e+07  1.030085e+05        1.002455e+05  4.164645e+05   \n",
       "min    1.000000e+00  0.000000e+00        0.000000e+00  1.000000e+00   \n",
       "25%    6.565000e+03  0.000000e+00        1.143000e+00  1.210000e+02   \n",
       "50%    6.239700e+04  1.700000e+01        3.771400e+01  1.230000e+03   \n",
       "75%    6.419815e+05  5.230000e+02        6.310000e+02  1.064800e+04   \n",
       "max    7.664400e+08  7.460822e+06        6.410667e+06  6.932578e+06   \n",
       "\n",
       "          new_deaths  new_deaths_smoothed  total_cases_per_million  \\\n",
       "count  302735.000000        301505.000000            275335.000000   \n",
       "mean       95.740952            96.103652             88010.375666   \n",
       "std       600.706338           591.334247            138439.520139   \n",
       "min         0.000000             0.000000                 0.000000   \n",
       "25%         0.000000             0.000000              2039.082000   \n",
       "50%         0.000000             0.286000             20898.389000   \n",
       "75%         6.000000             6.714000            107810.942500   \n",
       "max     20027.000000         14677.857000            737554.506000   \n",
       "\n",
       "       new_cases_per_million  new_cases_smoothed_per_million  \\\n",
       "count          302655.000000                   301391.000000   \n",
       "mean              161.890445                      162.525589   \n",
       "std              1127.171598                      634.547240   \n",
       "min                 0.000000                        0.000000   \n",
       "25%                 0.000000                        0.246000   \n",
       "50%                 2.396000                       10.664000   \n",
       "75%                68.501000                      103.445000   \n",
       "max            228872.025000                    37241.781000   \n",
       "\n",
       "       total_deaths_per_million  ...   male_smokers  handwashing_facilities  \\\n",
       "count             254635.000000  ...  178608.000000           118210.000000   \n",
       "mean                 811.194069  ...      32.911118               50.792342   \n",
       "std                 1053.772688  ...      13.572861               31.957039   \n",
       "min                    0.000000  ...       7.700000                1.188000   \n",
       "25%                   50.398500  ...      22.600000               20.859000   \n",
       "50%                  338.621000  ...      33.100000               49.839000   \n",
       "75%                 1246.603000  ...      41.300000               83.241000   \n",
       "max                 6476.319000  ...      78.100000              100.000000   \n",
       "\n",
       "       hospital_beds_per_thousand  life_expectancy  human_development_index  \\\n",
       "count               213080.000000    286446.000000            233976.000000   \n",
       "mean                     3.097773        73.718956                 0.722521   \n",
       "std                      2.548706         7.396725                 0.148989   \n",
       "min                      0.100000        53.280000                 0.394000   \n",
       "25%                      1.300000        69.590000                 0.602000   \n",
       "50%                      2.500000        75.050000                 0.740000   \n",
       "75%                      4.200000        79.460000                 0.829000   \n",
       "max                     13.800000        86.750000                 0.957000   \n",
       "\n",
       "         population  excess_mortality_cumulative_absolute  \\\n",
       "count  3.115100e+05                          1.066900e+04   \n",
       "mean   1.284065e+08                          4.739668e+04   \n",
       "std    6.605735e+08                          1.384241e+05   \n",
       "min    4.700000e+01                         -3.772610e+04   \n",
       "25%    4.490020e+05                          2.780000e+01   \n",
       "50%    5.882259e+06                          4.530999e+03   \n",
       "75%    2.830170e+07                          3.159700e+04   \n",
       "max    7.975105e+09                          1.282260e+06   \n",
       "\n",
       "       excess_mortality_cumulative  excess_mortality  \\\n",
       "count                 10669.000000      10669.000000   \n",
       "mean                      9.538903         12.633550   \n",
       "std                      12.914011         26.344219   \n",
       "min                     -44.230000        -95.920000   \n",
       "25%                       0.560000         -1.200000   \n",
       "50%                       7.750000          6.490000   \n",
       "75%                      15.360000         18.070000   \n",
       "max                      76.550000        377.300000   \n",
       "\n",
       "       excess_mortality_cumulative_per_million  \n",
       "count                             10669.000000  \n",
       "mean                               1477.149682  \n",
       "std                                1840.907839  \n",
       "min                               -1984.281600  \n",
       "25%                                  24.645111  \n",
       "50%                                 900.418500  \n",
       "75%                                2399.257000  \n",
       "max                               10291.122000  \n",
       "\n",
       "[8 rows x 62 columns]"
      ]
     },
     "execution_count": 4,
     "metadata": {},
     "output_type": "execute_result"
    }
   ],
   "source": [
    "df.describe()  #descrivo il df attraverso alcuni descrittori statistici"
   ]
  },
  {
   "cell_type": "code",
   "execution_count": 19,
   "id": "f4816a32-ee46-46bd-9ecc-8ba3cf548e3b",
   "metadata": {},
   "outputs": [
    {
     "data": {
      "text/plain": [
       "iso_code                                   311510\n",
       "continent                                  296683\n",
       "location                                   311510\n",
       "date                                       311510\n",
       "total_cases                                275335\n",
       "                                            ...  \n",
       "population                                 311510\n",
       "excess_mortality_cumulative_absolute        10669\n",
       "excess_mortality_cumulative                 10669\n",
       "excess_mortality                            10669\n",
       "excess_mortality_cumulative_per_million     10669\n",
       "Length: 67, dtype: int64"
      ]
     },
     "execution_count": 19,
     "metadata": {},
     "output_type": "execute_result"
    }
   ],
   "source": [
    "df.count()         #conteggio delle occorrenze "
   ]
  },
  {
   "cell_type": "code",
   "execution_count": 16,
   "id": "5c1360d6-3b14-4ba1-9881-393e93ad157d",
   "metadata": {},
   "outputs": [
    {
     "name": "stdout",
     "output_type": "stream",
     "text": [
      "iso_code                                        0\n",
      "continent                                   14827\n",
      "location                                        0\n",
      "date                                            0\n",
      "total_cases                                 36175\n",
      "                                            ...  \n",
      "population                                      0\n",
      "excess_mortality_cumulative_absolute       300841\n",
      "excess_mortality_cumulative                300841\n",
      "excess_mortality                           300841\n",
      "excess_mortality_cumulative_per_million    300841\n",
      "Length: 67, dtype: int64\n"
     ]
    }
   ],
   "source": [
    "valori_nulli = df.isna().sum()\n",
    "print(valori_nulli)                     # controllo quanti valori nulli sono presenti"
   ]
  },
  {
   "cell_type": "code",
   "execution_count": 18,
   "id": "af568511-f650-4264-bb1d-5e9a38771367",
   "metadata": {},
   "outputs": [
    {
     "name": "stdout",
     "output_type": "stream",
     "text": [
      "iso_code                                   311510\n",
      "continent                                  296683\n",
      "location                                   311510\n",
      "date                                       311510\n",
      "total_cases                                275335\n",
      "                                            ...  \n",
      "population                                 311510\n",
      "excess_mortality_cumulative_absolute        10669\n",
      "excess_mortality_cumulative                 10669\n",
      "excess_mortality                            10669\n",
      "excess_mortality_cumulative_per_million     10669\n",
      "Length: 67, dtype: int64\n"
     ]
    }
   ],
   "source": [
    "valori_non_nulli = df.notnull().sum()\n",
    "print(valori_non_nulli)                   #per fare un doppio check conto anche quanti valori non nulli ci sono. "
   ]
  },
  {
   "cell_type": "markdown",
   "id": "4b3ce796-85d9-45c5-9ada-43a2c28f31da",
   "metadata": {},
   "source": [
    "### Da questo controllo incrociato posso vedere che i dati relativi alla colonna 'location' sono sempre presenti,  quelli relativi alla colonna 'continent' invece no"
   ]
  },
  {
   "cell_type": "markdown",
   "id": "050ff700-a76c-461b-8257-67e9a6659313",
   "metadata": {},
   "source": [
    "# PUNTO 2 Per verificare il numero di casi per continente procedo usando un groupby e un sum . Automaticamente i continenti senza dicitura vengono scartati"
   ]
  },
  {
   "cell_type": "code",
   "execution_count": 253,
   "id": "77693942-56b7-4cef-aac9-ab3d4069a7d3",
   "metadata": {},
   "outputs": [
    {
     "data": {
      "text/plain": [
       "continent\n",
       "Africa            13088991.0\n",
       "Asia             297234406.0\n",
       "Europe           249319188.0\n",
       "North America    124175560.0\n",
       "Oceania           14073975.0\n",
       "South America     68568119.0\n",
       "Name: new_cases, dtype: float64"
      ]
     },
     "execution_count": 253,
     "metadata": {},
     "output_type": "execute_result"
    }
   ],
   "source": [
    "df.groupby(['continent'])['new_cases'].sum()     #come si può notare la colonna raggruppata dei nan non compare"
   ]
  },
  {
   "cell_type": "markdown",
   "id": "a3d19f81-08fb-4b1f-971c-fc7637271d6b",
   "metadata": {},
   "source": [
    "### Visto che alla fine l'esercizio chiede un confronto tra Europa, Sud America, Oceania; intanto guardo i valori totali per questi 3 casi, considerando che ci sono dei continenti nan non considerati"
   ]
  },
  {
   "cell_type": "code",
   "execution_count": 254,
   "id": "d4fb3738-1794-4afa-9f52-99126bf8edf3",
   "metadata": {},
   "outputs": [
    {
     "name": "stdout",
     "output_type": "stream",
     "text": [
      "i casi in europa sono: 249319188.0\n"
     ]
    }
   ],
   "source": [
    "filtro1 = df.loc[:, \"continent\"]==\"Europe\"\n",
    "output = df.loc[filtro1, \"new_cases\"]\n",
    "print(\"i casi in europa sono:\", output.sum())\n"
   ]
  },
  {
   "cell_type": "code",
   "execution_count": 255,
   "id": "dbf43696-8a7e-4447-a0b5-b484ecdc3e33",
   "metadata": {},
   "outputs": [
    {
     "name": "stdout",
     "output_type": "stream",
     "text": [
      "i casi in sud america sono: 68568119.0\n"
     ]
    }
   ],
   "source": [
    "filtro2 = df.loc[:, \"continent\"]==\"South America\"\n",
    "output2 = df.loc[filtro2, \"new_cases\"]\n",
    "print(\"i casi in sud america sono:\", output2.sum())"
   ]
  },
  {
   "cell_type": "code",
   "execution_count": 127,
   "id": "fe73d8e8-9295-463d-8feb-ed0f813fbd62",
   "metadata": {},
   "outputs": [
    {
     "name": "stdout",
     "output_type": "stream",
     "text": [
      "i casi in oceania sono: 68568119.0\n"
     ]
    }
   ],
   "source": [
    "filtro3 = df.loc[:, \"continent\"]==\"Oceania\"\n",
    "output3 = df.loc[filtro2, \"new_cases\"]\n",
    "print(\"i casi in oceania sono:\", output3.sum())"
   ]
  },
  {
   "cell_type": "code",
   "execution_count": 256,
   "id": "dd06df6a-eecb-40f1-ad1b-a26ef7be43c0",
   "metadata": {},
   "outputs": [
    {
     "name": "stdout",
     "output_type": "stream",
     "text": [
      "3248689566.0\n"
     ]
    }
   ],
   "source": [
    "totali_mondo = df[\"new_cases\"].sum()\n",
    "print(totali_mondo)"
   ]
  },
  {
   "cell_type": "markdown",
   "id": "35773efd-a640-4f40-ad4d-b6dbb7533c60",
   "metadata": {},
   "source": [
    "## PUNTO 3 per calcolare max, min, media e percentuale provo a scrivere una funzione da richiamare successivamente. Caso 1: solo i continenti specificati"
   ]
  },
  {
   "cell_type": "code",
   "execution_count": 257,
   "id": "d4739c4d-f2bf-4457-8cd2-b45e8336264e",
   "metadata": {},
   "outputs": [],
   "source": [
    "def descrittori (df, country1, country2):\n",
    "    c1 = df.loc[:, \"continent\"]== country1\n",
    "    c2 = df.loc[:, \"continent\"]== country2    \n",
    "    \n",
    "    output_perc = df.loc[c1, \"new_cases\"].sum()\n",
    "    output_perc2 = df.loc[c2, \"new_cases\"].sum()\n",
    "    \n",
    "    totali_mondo = df[\"new_cases\"].sum()\n",
    "    \n",
    "    massimo_c1 = df.loc[c1,\"new_cases\"].max()\n",
    "    minimo_c1 = df.loc[c1,\"new_cases\"].min()\n",
    "    media_c1 = df.loc[c1,\"new_cases\"].mean()\n",
    "    massimo_c2 = df.loc[c2,\"new_cases\"].max()\n",
    "    minimo_c2 = df.loc[c2,\"new_cases\"].min()\n",
    "    media_c2 = df.loc[c2,\"new_cases\"].mean()\n",
    "    perc1 = (output_perc/totali_mondo)*100\n",
    "    perc2 = (output_perc2/totali_mondo)*100\n",
    "    \n",
    "    #return(massimo_c1, minimo_c1,media_c1,massimo_c2, minimo_c2,media_c2)\n",
    "    print(\"per il continente 1:\", \"massimo:\", massimo_c1,\"minimo:\", minimo_c1,\"media:\",media_c1, \"la percentuale sui casi totali nel mondo è:\",perc1)\n",
    "    print(\"per il continente 2:\", \"massimo:\", massimo_c2,\"minimo:\", minimo_c2,\"media:\",media_c2, \"la percentuale sui casi totali nel mondo è:\", perc2)"
   ]
  },
  {
   "cell_type": "code",
   "execution_count": 258,
   "id": "6755a952-fd62-4252-b338-94a4f7fb3870",
   "metadata": {},
   "outputs": [
    {
     "name": "stdout",
     "output_type": "stream",
     "text": [
      "per il continente 1: massimo: 500563.0 minimo: 0.0 media: 3973.7840965238042 la percentuale sui casi totali nel mondo è: 7.674454050929162\n",
      "per il continente 2: massimo: 6966046.0 minimo: 0.0 media: 5142.107916407169 la percentuale sui casi totali nel mondo è: 9.149363149707607\n"
     ]
    }
   ],
   "source": [
    "descrittori(df, \"Europe\", \"Asia\")"
   ]
  },
  {
   "cell_type": "code",
   "execution_count": 259,
   "id": "7b375afb-3eb2-4ae0-836e-586e991eb966",
   "metadata": {},
   "outputs": [
    {
     "name": "stdout",
     "output_type": "stream",
     "text": [
      "per il continente 1: massimo: 298408.0 minimo: 0.0 media: 3983.276344835599 la percentuale sui casi totali nel mondo è: 2.1106393087729085\n",
      "per il continente 2: massimo: 588813.0 minimo: 0.0 media: 476.4378808395396 la percentuale sui casi totali nel mondo è: 0.433220063477127\n"
     ]
    }
   ],
   "source": [
    "descrittori(df, \"South America\", \"Oceania\")"
   ]
  },
  {
   "cell_type": "code",
   "execution_count": 260,
   "id": "53de2fa8-64cc-4dff-8e4b-9ed526bd7824",
   "metadata": {},
   "outputs": [],
   "source": [
    "def vaccini (df, country1, country2):\n",
    "    v1 = df.loc[:, \"continent\"]== country1\n",
    "    v2 = df.loc[:, \"continent\"]== country2    \n",
    "    \n",
    "    output_v1 = df.loc[v1, \"new_vaccinations\"].sum()\n",
    "    output_v2 = df.loc[v2, \"new_vaccinations\"].sum()\n",
    "    \n",
    "    totali_mondo_vacc = df[\"total_vaccinations\"].sum()\n",
    "    \n",
    "    massimo_v1 = df.loc[v1,\"new_vaccinations\"].max()\n",
    "    minimo_v1 = df.loc[v1,\"new_vaccinations\"].min()\n",
    "    media_v1 = df.loc[v1,\"new_vaccinations\"].mean()\n",
    "    massimo_v2 = df.loc[v2,\"new_vaccinations\"].max()\n",
    "    minimo_v2 = df.loc[v2,\"new_vaccinations\"].min()\n",
    "    media_v2 = df.loc[v2,\"new_vaccinations\"].mean()\n",
    "    perc_v1 = (output_v1/totali_mondo)*100\n",
    "    perc_v2 = (output_v2/totali_mondo)*100\n",
    "    \n",
    "   \n",
    "    print(\"per il continente 1:\", \"massimo:\", massimo_v1,\"minimo:\", minimo_v1,\"media:\",media_v1, \"la percentuale sui vaccini totali nel mondo è:\",perc_v1)\n",
    "    print(\"per il continente 2:\", \"massimo:\", massimo_v2,\"minimo:\", minimo_v2,\"media:\",media_v2, \"la percentuale sui vaccini totali nel mondo è:\", perc_v2)"
   ]
  },
  {
   "cell_type": "code",
   "execution_count": 261,
   "id": "fd963024-90e5-436c-b32d-42be60bca460",
   "metadata": {},
   "outputs": [
    {
     "name": "stdout",
     "output_type": "stream",
     "text": [
      "per il continente 1: massimo: 2389472.0 minimo: 0.0 media: 59965.76519677573 la percentuale sui vaccini totali nel mondo è: 38.92886538731845\n",
      "per il continente 2: massimo: 24741000.0 minimo: 0.0 media: 510263.12006489997 la percentuale sui vaccini totali nel mondo è: 232.33405096607495\n"
     ]
    }
   ],
   "source": [
    "vaccini(df, \"Europe\", \"Asia\")"
   ]
  },
  {
   "cell_type": "code",
   "execution_count": 262,
   "id": "3e1f2844-5ed7-4530-9f9c-46578147c403",
   "metadata": {},
   "outputs": [
    {
     "name": "stdout",
     "output_type": "stream",
     "text": [
      "per il continente 1: massimo: 298408.0 minimo: 0.0 media: 3983.276344835599 la percentuale sui casi totali nel mondo è: 2.1106393087729085\n",
      "per il continente 2: massimo: 588813.0 minimo: 0.0 media: 476.4378808395396 la percentuale sui casi totali nel mondo è: 0.433220063477127\n"
     ]
    }
   ],
   "source": [
    "descrittori(df, \"South America\", \"Oceania\")"
   ]
  },
  {
   "cell_type": "markdown",
   "id": "a6d050ef-d6b3-4d7b-a035-75ecfcd3a1ab",
   "metadata": {},
   "source": [
    "### CASO 2 per considerare i valori che non hanno una corrispondenza nella colonna 'continent' ma sono invece presenti nella colonna 'location', **come richiesto da esercizio**, provo a usare il fillna. In pratica ho sostituito i valori vuoti della colonna continente con i rispettivi della location"
   ]
  },
  {
   "cell_type": "code",
   "execution_count": 297,
   "id": "e1f88246-1344-453f-98fd-05c1fd20f663",
   "metadata": {},
   "outputs": [],
   "source": [
    "df['continent']=df['continent'].fillna(df[\"location\"])   #sostituzione dei continenti vuoti con le rispettive località"
   ]
  },
  {
   "cell_type": "markdown",
   "id": "7cd2344a-df0f-4648-b674-aa28e5bfcefd",
   "metadata": {},
   "source": [
    "## ricalcolo tutto ciò che ho fatto prima "
   ]
  },
  {
   "cell_type": "code",
   "execution_count": 298,
   "id": "d4cae575-78cf-40e7-89ac-ff753c653c09",
   "metadata": {},
   "outputs": [
    {
     "name": "stdout",
     "output_type": "stream",
     "text": [
      "i casi in europa sono: 249319188.0\n"
     ]
    }
   ],
   "source": [
    "filtro4 = df.loc[:, \"continent\"]==\"Europe\"\n",
    "output = df.loc[filtro4, \"new_cases\"]\n",
    "print(\"i casi in europa sono:\", output.sum())"
   ]
  },
  {
   "cell_type": "code",
   "execution_count": 299,
   "id": "c57fa62e-82fd-4111-89b1-fd663cf320a7",
   "metadata": {},
   "outputs": [
    {
     "name": "stdout",
     "output_type": "stream",
     "text": [
      "i casi in sud america sono: 68568119.0\n"
     ]
    }
   ],
   "source": [
    "filtro5 = df.loc[:, \"continent\"]==\"South America\"\n",
    "output5 = df.loc[filtro5, \"new_cases\"]\n",
    "print(\"i casi in sud america sono:\", output5.sum())"
   ]
  },
  {
   "cell_type": "code",
   "execution_count": 300,
   "id": "d08072ed-579c-4a0a-9a3f-777f8f7cd86e",
   "metadata": {},
   "outputs": [
    {
     "name": "stdout",
     "output_type": "stream",
     "text": [
      "i casi in oceania sono: 14073975.0\n"
     ]
    }
   ],
   "source": [
    "filtro6 = df.loc[:, \"continent\"]==\"Oceania\"\n",
    "output6 = df.loc[filtro6, \"new_cases\"]\n",
    "print(\"i casi in oceania sono:\", output6.sum())"
   ]
  },
  {
   "cell_type": "code",
   "execution_count": 301,
   "id": "6f909eaf-8111-49d7-993a-fc7df8d74865",
   "metadata": {},
   "outputs": [
    {
     "name": "stdout",
     "output_type": "stream",
     "text": [
      "per il continente 1: massimo: 500563.0 minimo: 0.0 media: 3973.7840965238042 la percentuale sui casi totali nel mondo è: 32.528652539796\n",
      "per il continente 2: massimo: 6966046.0 minimo: 0.0 media: 5142.107916407169 la percentuale sui casi totali nel mondo è: 38.78014681985349\n"
     ]
    }
   ],
   "source": [
    "descrittori(df, \"Europe\", \"Asia\")"
   ]
  },
  {
   "cell_type": "code",
   "execution_count": 302,
   "id": "ce2065e0-20fb-415e-9262-59fd3d91d0cc",
   "metadata": {},
   "outputs": [
    {
     "name": "stdout",
     "output_type": "stream",
     "text": [
      "per il continente 1: massimo: 298408.0 minimo: 0.0 media: 3983.276344835599 la percentuale sui casi totali nel mondo è: 8.946076457855238\n",
      "per il continente 2: massimo: 588813.0 minimo: 0.0 media: 476.4378808395396 la percentuale sui casi totali nel mondo è: 1.8362302809552526\n"
     ]
    }
   ],
   "source": [
    "descrittori(df, \"South America\", \"Oceania\")"
   ]
  },
  {
   "cell_type": "markdown",
   "id": "0a892fcd-6703-4c70-89a0-44ba86424483",
   "metadata": {},
   "source": [
    "# Vaccini"
   ]
  },
  {
   "cell_type": "code",
   "execution_count": 303,
   "id": "81425981-36f1-4bb6-891a-53868ee390d6",
   "metadata": {},
   "outputs": [],
   "source": [
    "df['continent']=df['continent'].fillna(df[\"location\"])   #sostituzione dei continenti vuoti con le rispettive località"
   ]
  },
  {
   "cell_type": "code",
   "execution_count": 304,
   "id": "6777d137-7338-423b-8c65-83021f893466",
   "metadata": {},
   "outputs": [],
   "source": [
    "def vaccini (df, country1, country2):\n",
    "    v1 = df.loc[:, \"continent\"]== country1\n",
    "    v2 = df.loc[:, \"continent\"]== country2    \n",
    "    \n",
    "    output_v1 = df.loc[v1, \"new_vaccinations\"].sum()\n",
    "    output_v2 = df.loc[v2, \"new_vaccinations\"].sum()\n",
    "    \n",
    "    totali_mondo_vacc = df[\"new_vaccinations\"].sum()\n",
    "    \n",
    "    massimo_v1 = df.loc[v1,\"new_vaccinations\"].max()\n",
    "    minimo_v1 = df.loc[v1,\"new_vaccinations\"].min()\n",
    "    media_v1 = df.loc[v1,\"new_vaccinations\"].mean()\n",
    "    massimo_v2 = df.loc[v2,\"new_vaccinations\"].max()\n",
    "    minimo_v2 = df.loc[v2,\"new_vaccinations\"].min()\n",
    "    media_v2 = df.loc[v2,\"new_vaccinations\"].mean()\n",
    "    perc_v1 = (output_v1/totali_mondo_vacc)*100\n",
    "    perc_v2 = (output_v2/totali_mondo_vacc)*100\n",
    "    \n",
    "   \n",
    "    print(\"per il continente 1:\", \"massimo:\", massimo_v1,\"minimo:\", minimo_v1,\"media:\",media_v1, \"la percentuale sui vaccini totali nel mondo è:\",perc_v1)\n",
    "    print(\"per il continente 2:\", \"massimo:\", massimo_v2,\"minimo:\", minimo_v2,\"media:\",media_v2, \"la percentuale sui vaccini totali nel mondo è:\", perc_v2)"
   ]
  },
  {
   "cell_type": "code",
   "execution_count": 305,
   "id": "a5f37fbd-af09-4079-99a7-76f03d0645cd",
   "metadata": {},
   "outputs": [
    {
     "name": "stdout",
     "output_type": "stream",
     "text": [
      "per il continente 1: massimo: 2389472.0 minimo: 0.0 media: 59965.76519677573 la percentuale sui vaccini totali nel mondo è: 11.661595398357601\n",
      "per il continente 2: massimo: 24741000.0 minimo: 0.0 media: 510263.12006489997 la percentuale sui vaccini totali nel mondo è: 69.59837315244167\n"
     ]
    }
   ],
   "source": [
    "vaccini(df, \"Europe\", \"Asia\")"
   ]
  },
  {
   "cell_type": "code",
   "execution_count": 306,
   "id": "9261a49c-8264-4ac6-bae1-4aaf48f6a10d",
   "metadata": {},
   "outputs": [
    {
     "name": "stdout",
     "output_type": "stream",
     "text": [
      "per il continente 1: massimo: 298408.0 minimo: 0.0 media: 3983.276344835599 la percentuale sui casi totali nel mondo è: 8.946076457855238\n",
      "per il continente 2: massimo: 588813.0 minimo: 0.0 media: 476.4378808395396 la percentuale sui casi totali nel mondo è: 1.8362302809552526\n"
     ]
    }
   ],
   "source": [
    "descrittori(df, \"South America\", \"Oceania\")"
   ]
  },
  {
   "cell_type": "code",
   "execution_count": 307,
   "id": "4e6aa2c1-a9c4-4c08-ad85-78bdfb952fe7",
   "metadata": {},
   "outputs": [
    {
     "name": "stdout",
     "output_type": "stream",
     "text": [
      "5317825764796.0\n"
     ]
    }
   ],
   "source": [
    "totali_mondo_vacc = df[\"total_vaccinations\"].sum()\n",
    "print(totali_mondo_vacc)"
   ]
  },
  {
   "cell_type": "markdown",
   "id": "da99e13d-a1fd-43ec-92ae-2922cea29ad4",
   "metadata": {},
   "source": [
    "## In questo modo però i dati non sono reali, sono presenti, infatti, nel df alcuni raggruppamenti. La cosa migliore per rientrare nei range sarebbe droppare all'inzio i Nan. So che non è quanto richiesto dalla traccia ma così avrei dati più sensati:"
   ]
  },
  {
   "cell_type": "code",
   "execution_count": 309,
   "id": "e100fa7a-5704-4471-82a3-f2f2aba8f868",
   "metadata": {},
   "outputs": [
    {
     "name": "stdout",
     "output_type": "stream",
     "text": [
      "continent\n",
      "Africa            13088991.0\n",
      "Asia             297234406.0\n",
      "Europe           249319188.0\n",
      "North America    124175560.0\n",
      "Oceania           14073975.0\n",
      "South America     68568119.0\n",
      "Name: new_cases, dtype: float64\n"
     ]
    }
   ],
   "source": [
    "df=df.dropna(subset=[\"continent\"])\n",
    "continente = df.groupby([\"continent\"])[\"new_cases\"].sum()\n",
    "print(continente)"
   ]
  },
  {
   "cell_type": "code",
   "execution_count": 310,
   "id": "3b5cf234-36e3-4b2c-9d25-4b98b8474813",
   "metadata": {},
   "outputs": [
    {
     "name": "stdout",
     "output_type": "stream",
     "text": [
      "766460239.0\n"
     ]
    }
   ],
   "source": [
    "totali_mondo = df[\"new_cases\"].sum()\n",
    "print(totali_mondo)"
   ]
  },
  {
   "cell_type": "code",
   "execution_count": 311,
   "id": "352729dc-dcfd-4fd6-97af-0ff9a6b2b401",
   "metadata": {},
   "outputs": [],
   "source": [
    "def descrittoribis (df, country1, country2):\n",
    "    c1bis = df.loc[:, \"continent\"]== country1\n",
    "    c2bis = df.loc[:, \"continent\"]== country2    \n",
    "    \n",
    "    output_percbis = df.loc[c1bis, \"new_cases\"].sum()\n",
    "    output_perc2bis = df.loc[c2bis, \"new_cases\"].sum()\n",
    "    \n",
    "    totali_mondobis = df[\"new_cases\"].sum()\n",
    "    \n",
    "    massimo_c1bis = df.loc[c1bis,\"new_cases\"].max()\n",
    "    minimo_c1bis = df.loc[c1bis,\"new_cases\"].min()\n",
    "    media_c1bis = df.loc[c1bis,\"new_cases\"].mean()\n",
    "    massimo_c2bis = df.loc[c2bis,\"new_cases\"].max()\n",
    "    minimo_c2bis = df.loc[c2bis,\"new_cases\"].min()\n",
    "    media_c2bis = df.loc[c2bis,\"new_cases\"].mean()\n",
    "    perc1bis = (output_percbis/totali_mondobis)*100\n",
    "    perc2bis = (output_perc2bis/totali_mondobis)*100\n",
    "    \n",
    "    results_cont = pd.DataFrame({\n",
    "        \n",
    "    'continente': [country1, country2],\n",
    "    'massimo' : [massimo_c1bis, massimo_c2bis],\n",
    "    'minimo': [minimo_c1bis, minimo_c2bis],\n",
    "    'media' : [media_c1bis, media_c2bis],\n",
    "    'percentuale su tot': [perc1bis, perc2bis]\n",
    "        \n",
    "})\n",
    "    return results_cont\n",
    "    \n",
    "      \n",
    "    #print(\"per il continente 1:\", \"massimo:\", massimo_c1bis,\"minimo:\", minimo_c1bis,\"media:\",media_c1bis, \"la percentuale sui casi totali nel mondo è:\",perc1bis)\n",
    "    #print(\"per il continente 2:\", \"massimo:\", massimo_c2bis,\"minimo:\", minimo_c2bis,\"media:\",media_c2bis, \"la percentuale sui casi totali nel mondo è:\", perc2bis)"
   ]
  },
  {
   "cell_type": "code",
   "execution_count": 312,
   "id": "1ee5306b-0aac-47cd-9a27-c7dd5eaa99cd",
   "metadata": {},
   "outputs": [
    {
     "data": {
      "text/html": [
       "<div>\n",
       "<style scoped>\n",
       "    .dataframe tbody tr th:only-of-type {\n",
       "        vertical-align: middle;\n",
       "    }\n",
       "\n",
       "    .dataframe tbody tr th {\n",
       "        vertical-align: top;\n",
       "    }\n",
       "\n",
       "    .dataframe thead th {\n",
       "        text-align: right;\n",
       "    }\n",
       "</style>\n",
       "<table border=\"1\" class=\"dataframe\">\n",
       "  <thead>\n",
       "    <tr style=\"text-align: right;\">\n",
       "      <th></th>\n",
       "      <th>continente</th>\n",
       "      <th>massimo</th>\n",
       "      <th>minimo</th>\n",
       "      <th>media</th>\n",
       "      <th>percentuale su tot</th>\n",
       "    </tr>\n",
       "  </thead>\n",
       "  <tbody>\n",
       "    <tr>\n",
       "      <th>0</th>\n",
       "      <td>Europe</td>\n",
       "      <td>500563.0</td>\n",
       "      <td>0.0</td>\n",
       "      <td>3973.784097</td>\n",
       "      <td>32.528653</td>\n",
       "    </tr>\n",
       "    <tr>\n",
       "      <th>1</th>\n",
       "      <td>Asia</td>\n",
       "      <td>6966046.0</td>\n",
       "      <td>0.0</td>\n",
       "      <td>5142.107916</td>\n",
       "      <td>38.780147</td>\n",
       "    </tr>\n",
       "  </tbody>\n",
       "</table>\n",
       "</div>"
      ],
      "text/plain": [
       "  continente    massimo  minimo        media  percentuale su tot\n",
       "0     Europe   500563.0     0.0  3973.784097           32.528653\n",
       "1       Asia  6966046.0     0.0  5142.107916           38.780147"
      ]
     },
     "execution_count": 312,
     "metadata": {},
     "output_type": "execute_result"
    }
   ],
   "source": [
    "descrittoribis(df, \"Europe\", \"Asia\")"
   ]
  },
  {
   "cell_type": "code",
   "execution_count": 313,
   "id": "6570e51f-ee9b-4c70-9b9f-bb7243c9d7e1",
   "metadata": {},
   "outputs": [
    {
     "data": {
      "text/html": [
       "<div>\n",
       "<style scoped>\n",
       "    .dataframe tbody tr th:only-of-type {\n",
       "        vertical-align: middle;\n",
       "    }\n",
       "\n",
       "    .dataframe tbody tr th {\n",
       "        vertical-align: top;\n",
       "    }\n",
       "\n",
       "    .dataframe thead th {\n",
       "        text-align: right;\n",
       "    }\n",
       "</style>\n",
       "<table border=\"1\" class=\"dataframe\">\n",
       "  <thead>\n",
       "    <tr style=\"text-align: right;\">\n",
       "      <th></th>\n",
       "      <th>continente</th>\n",
       "      <th>massimo</th>\n",
       "      <th>minimo</th>\n",
       "      <th>media</th>\n",
       "      <th>percentuale su tot</th>\n",
       "    </tr>\n",
       "  </thead>\n",
       "  <tbody>\n",
       "    <tr>\n",
       "      <th>0</th>\n",
       "      <td>South America</td>\n",
       "      <td>298408.0</td>\n",
       "      <td>0.0</td>\n",
       "      <td>3983.276345</td>\n",
       "      <td>8.946076</td>\n",
       "    </tr>\n",
       "    <tr>\n",
       "      <th>1</th>\n",
       "      <td>Oceania</td>\n",
       "      <td>588813.0</td>\n",
       "      <td>0.0</td>\n",
       "      <td>476.437881</td>\n",
       "      <td>1.836230</td>\n",
       "    </tr>\n",
       "  </tbody>\n",
       "</table>\n",
       "</div>"
      ],
      "text/plain": [
       "      continente   massimo  minimo        media  percentuale su tot\n",
       "0  South America  298408.0     0.0  3983.276345            8.946076\n",
       "1        Oceania  588813.0     0.0   476.437881            1.836230"
      ]
     },
     "execution_count": 313,
     "metadata": {},
     "output_type": "execute_result"
    }
   ],
   "source": [
    "descrittoribis(df, \"South America\", \"Oceania\")"
   ]
  },
  {
   "cell_type": "code",
   "execution_count": 314,
   "id": "2e760ba7-a4be-4ff7-ac91-2484de8eea37",
   "metadata": {},
   "outputs": [],
   "source": [
    "def vaccinibis (df, country1, country2):\n",
    "    v1bis = df.loc[:, \"continent\"]== country1\n",
    "    v2bis = df.loc[:, \"continent\"]== country2    \n",
    "    \n",
    "    output_v1bis = df.loc[v1bis, \"new_vaccinations\"].sum()\n",
    "    output_v2bis = df.loc[v2bis, \"new_vaccinations\"].sum()\n",
    "    \n",
    "    totali_mondo_vaccbis = df[\"new_vaccinations\"].sum()\n",
    "    \n",
    "    massimo_v1bis = df.loc[v1bis,\"new_vaccinations\"].max()\n",
    "    minimo_v1bis = df.loc[v1bis,\"new_vaccinations\"].min()\n",
    "    media_v1bis = df.loc[v1bis,\"new_vaccinations\"].mean()\n",
    "    massimo_v2bis = df.loc[v2bis,\"new_vaccinations\"].max()\n",
    "    minimo_v2bis = df.loc[v2bis,\"new_vaccinations\"].min()\n",
    "    media_v2bis = df.loc[v2bis,\"new_vaccinations\"].mean()\n",
    "    perc_v1bis = (output_v1bis/totali_mondo_vaccbis)*100\n",
    "    perc_v2bis = (output_v2bis/totali_mondo_vaccbis)*100\n",
    "    \n",
    "    results = pd.DataFrame({\n",
    "    'continente': [country1, country2],\n",
    "    'massimo' : [massimo_v1bis, massimo_v2bis],\n",
    "    'minimo': [minimo_v1bis, minimo_v2bis],\n",
    "    'media' : [media_v1bis, media_v2bis],\n",
    "    'percentuale su tot': [perc_v1bis, perc_v2bis]\n",
    "})\n",
    "    return results\n",
    "   \n",
    "    #print(\"per il continente 1:\", \"massimo:\", massimo_v1bis,\"minimo:\", minimo_v1bis,\"media:\",media_v1bis, \"la percentuale sui vaccini totali nel mondo è:\",perc_v1bis)\n",
    "    #print(\"per il continente 2:\", \"massimo:\", massimo_v2bis,\"minimo:\", minimo_v2bis,\"media:\",media_v2bis, \"la percentuale sui vaccini totali nel mondo è:\", perc_v2bis)"
   ]
  },
  {
   "cell_type": "code",
   "execution_count": 315,
   "id": "eaa14b22-e4e0-4990-8ca5-64e83d443d4f",
   "metadata": {},
   "outputs": [
    {
     "data": {
      "text/html": [
       "<div>\n",
       "<style scoped>\n",
       "    .dataframe tbody tr th:only-of-type {\n",
       "        vertical-align: middle;\n",
       "    }\n",
       "\n",
       "    .dataframe tbody tr th {\n",
       "        vertical-align: top;\n",
       "    }\n",
       "\n",
       "    .dataframe thead th {\n",
       "        text-align: right;\n",
       "    }\n",
       "</style>\n",
       "<table border=\"1\" class=\"dataframe\">\n",
       "  <thead>\n",
       "    <tr style=\"text-align: right;\">\n",
       "      <th></th>\n",
       "      <th>continente</th>\n",
       "      <th>massimo</th>\n",
       "      <th>minimo</th>\n",
       "      <th>media</th>\n",
       "      <th>percentuale su tot</th>\n",
       "    </tr>\n",
       "  </thead>\n",
       "  <tbody>\n",
       "    <tr>\n",
       "      <th>0</th>\n",
       "      <td>Europe</td>\n",
       "      <td>2389472.0</td>\n",
       "      <td>0.0</td>\n",
       "      <td>59965.765197</td>\n",
       "      <td>11.661595</td>\n",
       "    </tr>\n",
       "    <tr>\n",
       "      <th>1</th>\n",
       "      <td>Asia</td>\n",
       "      <td>24741000.0</td>\n",
       "      <td>0.0</td>\n",
       "      <td>510263.120065</td>\n",
       "      <td>69.598373</td>\n",
       "    </tr>\n",
       "  </tbody>\n",
       "</table>\n",
       "</div>"
      ],
      "text/plain": [
       "  continente     massimo  minimo          media  percentuale su tot\n",
       "0     Europe   2389472.0     0.0   59965.765197           11.661595\n",
       "1       Asia  24741000.0     0.0  510263.120065           69.598373"
      ]
     },
     "execution_count": 315,
     "metadata": {},
     "output_type": "execute_result"
    }
   ],
   "source": [
    "vaccinibis(df, \"Europe\", \"Asia\")"
   ]
  },
  {
   "cell_type": "code",
   "execution_count": 316,
   "id": "03cd4242-8d11-4fbd-9248-52fe4bbd0638",
   "metadata": {},
   "outputs": [
    {
     "data": {
      "text/html": [
       "<div>\n",
       "<style scoped>\n",
       "    .dataframe tbody tr th:only-of-type {\n",
       "        vertical-align: middle;\n",
       "    }\n",
       "\n",
       "    .dataframe tbody tr th {\n",
       "        vertical-align: top;\n",
       "    }\n",
       "\n",
       "    .dataframe thead th {\n",
       "        text-align: right;\n",
       "    }\n",
       "</style>\n",
       "<table border=\"1\" class=\"dataframe\">\n",
       "  <thead>\n",
       "    <tr style=\"text-align: right;\">\n",
       "      <th></th>\n",
       "      <th>continente</th>\n",
       "      <th>massimo</th>\n",
       "      <th>minimo</th>\n",
       "      <th>media</th>\n",
       "      <th>percentuale su tot</th>\n",
       "    </tr>\n",
       "  </thead>\n",
       "  <tbody>\n",
       "    <tr>\n",
       "      <th>0</th>\n",
       "      <td>South America</td>\n",
       "      <td>3976605.0</td>\n",
       "      <td>1.0</td>\n",
       "      <td>150660.764075</td>\n",
       "      <td>7.772814</td>\n",
       "    </tr>\n",
       "    <tr>\n",
       "      <th>1</th>\n",
       "      <td>Oceania</td>\n",
       "      <td>351226.0</td>\n",
       "      <td>1.0</td>\n",
       "      <td>56859.011442</td>\n",
       "      <td>0.687353</td>\n",
       "    </tr>\n",
       "  </tbody>\n",
       "</table>\n",
       "</div>"
      ],
      "text/plain": [
       "      continente    massimo  minimo          media  percentuale su tot\n",
       "0  South America  3976605.0     1.0  150660.764075            7.772814\n",
       "1        Oceania   351226.0     1.0   56859.011442            0.687353"
      ]
     },
     "execution_count": 316,
     "metadata": {},
     "output_type": "execute_result"
    }
   ],
   "source": [
    "vaccinibis(df, \"South America\", \"Oceania\")"
   ]
  },
  {
   "cell_type": "markdown",
   "id": "625bffe4-a443-4e0e-b130-6dff0d28db09",
   "metadata": {},
   "source": [
    "## PUNTO 5 "
   ]
  },
  {
   "cell_type": "markdown",
   "id": "fb969f5d-a4a3-4941-9c48-985e14b761db",
   "metadata": {},
   "source": [
    "In qualunque caso io calcoli il minimo (nuovi casi o vaccini) è chiaro che se non viene imposta una condizione di ricerca del valore differente da zero, il minimo sarà sempre lo zero stesso a prescindere dal continente.\n",
    "\n",
    "Per i casi è facile notare che l'incidenza maggiore è per Asia e Europa, paesi tra i più popolati e anche i primi ad esser colpiti dal covid.\n",
    "Anche per le vaccinazioni, la percentuale maggiore risulta essere per Europa e Asia. Come prima possiamo dedurre che essendo tra i Paesi più colpiti, più popolati e con un'ondata di covid che ha anticipato altri Paesi, anche le vaccinazioni siano avvenute in misura maggiore.\n",
    "\n",
    "Sottolineo che i dati sono stati ricavati considerando i \"new_cases\" e i\"new_vaccinations\" quindi *nuovi casi giornalieri* e *nuove vaccinazioni*, è possibile che in alcune date ci sia stato un calo o addirittura la presenza di zero nuovi casi o nuove vaccinazioni"
   ]
  },
  {
   "cell_type": "code",
   "execution_count": null,
   "id": "55d69f5f-5422-4673-bf0e-f18bf9164cd2",
   "metadata": {},
   "outputs": [],
   "source": []
  }
 ],
 "metadata": {
  "kernelspec": {
   "display_name": "Python 3 (ipykernel)",
   "language": "python",
   "name": "python3"
  },
  "language_info": {
   "codemirror_mode": {
    "name": "ipython",
    "version": 3
   },
   "file_extension": ".py",
   "mimetype": "text/x-python",
   "name": "python",
   "nbconvert_exporter": "python",
   "pygments_lexer": "ipython3",
   "version": "3.10.9"
  }
 },
 "nbformat": 4,
 "nbformat_minor": 5
}
